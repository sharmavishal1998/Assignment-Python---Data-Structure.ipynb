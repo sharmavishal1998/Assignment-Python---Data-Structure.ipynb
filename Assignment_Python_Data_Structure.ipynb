{
  "nbformat": 4,
  "nbformat_minor": 0,
  "metadata": {
    "colab": {
      "provenance": []
    },
    "kernelspec": {
      "name": "python3",
      "display_name": "Python 3"
    },
    "language_info": {
      "name": "python"
    }
  },
  "cells": [
    {
      "cell_type": "code",
      "source": [
        "#Question1- Describe string slicing and provide examples?\n",
        "#answer- String slicing- The process of extracting any part or a string using a specific syntex or we can say index is called string slicing.\n",
        "#example-\n",
        "string=(\"python data structure assignment.\")\n",
        "h=string[6:11]   # here sting is being sliced for index 6-11\n",
        "print(h)\n",
        "# now to slice string from backword we can use\n",
        "g=string[-12:-1]  #this is how we can use negetive slicing.\n",
        "print(g)\n",
        "print(string[::2]) # this is used to revesrse a string for a given index."
      ],
      "metadata": {
        "colab": {
          "base_uri": "https://localhost:8080/"
        },
        "id": "spOM4jb0F4NA",
        "outputId": "23f55b94-ac26-4a66-b0bd-2b25b0309f20"
      },
      "execution_count": null,
      "outputs": [
        {
          "output_type": "stream",
          "name": "stdout",
          "text": [
            " data\n",
            " assignment\n",
            "pto aasrcueasgmn.\n"
          ]
        }
      ]
    },
    {
      "cell_type": "code",
      "source": [
        "#Question2-Explain the key features of list in python?\n",
        "#answer- List[]- list is a data structure which allows you to store differnt kind of datatypes in it such as string,integer,float,boolean.\n",
        "#key features of list are:\n",
        "#it is mutable- means we can add remove any element after creation of list.\n",
        "#list is an ordered data structue of elements using due to which you can access any element of list any time using index.\n",
        "#list is versatile in nature due to whihc it can store elements of different datatypes such as string,float,integer,boolean,complex number.\n",
        "#list support slicing which makes it more flexible to be used and modified and is a very useful way to access subsets.\n",
        "#list is iterable so you can go through each of its elements using loop.\n",
        "#list can be nested also which means you can store one list in another list and access is easily.\n",
        "#it has multiple builtin functions such as append(),remove(),pop(),sort() which makes it easy to use.\n"
      ],
      "metadata": {
        "id": "F8VI1GVlGPpD"
      },
      "execution_count": null,
      "outputs": []
    },
    {
      "cell_type": "code",
      "source": [
        "#Question3- Describe how to access modify,delete elements in a list with examples.\n",
        "#Answer- As list is mutable data structure there are various functions in python that can be used to modify,access and delete elements of a list examples of all are as follows,.\n",
        "list1= [\"dragon fruit\",\"water melon\",\"apple\",\"mango\",\"lichi\",\"orange\",35,1.23,3+5j]\n",
        "print(list1[2])  # this is how you can access the elemnts of list\n",
        "print(list1[2:5])  # this is called list slicing where you can extract a part of list using index.\n",
        "list1[2]= \"grapes\" # this is how you can replace the elements of a list\n",
        "print(list1)\n",
        "list1.append(\"papaya\")  #append is a function in python using which you can add any element to an existing list\n",
        "print(list1)\n",
        "list1.remove(35) #remove is a function in python using which you can remove any element from an existing list.\n",
        "print(list1)\n",
        "list1.insert(2,\"banana\") #insert is a funtion specifically used to insert an element in list a defined index.\n",
        "print(list1)\n",
        "list1.pop(2) # pop is a funtion of list that is used to remove an element from a specified position.\n",
        "print(list1)\n",
        "del list1[0:2] # this function is used to remove slice of elements of a list\n",
        "print(list1)\n",
        "len(list1) # this function is used to find the length of a list\n",
        "print(list1)\n",
        "list2=[[\"apple\",\"banana\"],[\"mango\",\"lichi\"]] #this is called nested list\n",
        "print(list2[0][1]) #this function allows you to access the elements of list.\n",
        "#list comprehension\n",
        "squares = [x**2 for x in range(5)]\n",
        "print(squares)  # Output: [0, 1, 4, 9, 16] #this is called list comprehension"
      ],
      "metadata": {
        "colab": {
          "base_uri": "https://localhost:8080/"
        },
        "id": "oURrhPyzUV64",
        "outputId": "289d6241-503d-4e57-83b2-73afbbd93b4a"
      },
      "execution_count": 7,
      "outputs": [
        {
          "output_type": "stream",
          "name": "stdout",
          "text": [
            "apple\n",
            "['apple', 'mango', 'lichi']\n",
            "['dragon fruit', 'water melon', 'grapes', 'mango', 'lichi', 'orange', 35, 1.23, (3+5j)]\n",
            "['dragon fruit', 'water melon', 'grapes', 'mango', 'lichi', 'orange', 35, 1.23, (3+5j), 'papaya']\n",
            "['dragon fruit', 'water melon', 'grapes', 'mango', 'lichi', 'orange', 1.23, (3+5j), 'papaya']\n",
            "['dragon fruit', 'water melon', 'banana', 'grapes', 'mango', 'lichi', 'orange', 1.23, (3+5j), 'papaya']\n",
            "['dragon fruit', 'water melon', 'grapes', 'mango', 'lichi', 'orange', 1.23, (3+5j), 'papaya']\n",
            "['grapes', 'mango', 'lichi', 'orange', 1.23, (3+5j), 'papaya']\n",
            "['grapes', 'mango', 'lichi', 'orange', 1.23, (3+5j), 'papaya']\n",
            "banana\n",
            "[0, 1, 4, 9, 16]\n"
          ]
        }
      ]
    },
    {
      "cell_type": "code",
      "source": [
        "#Question4-compare and contrast tuples and list with example?\n",
        "#Answer- tuples and list both are different data structures in python that stores different kind of datatypes.\n",
        "#tuples are notated as () while list is notated as [].\n",
        "#one of the major differences between list and tuple is that lists are mutable and tupples are immutable.\n",
        "#tupples are used when collection of memory and data types has to be constant and lists are used when we have to make changes after creation of list.\n",
        "#in tuples limited functions such as count(), index() can be used while in list many functions such as append(),remove(),sort(),pop() can be used.\n",
        "#tuples are faster in operations and iteratinons as compared to list as tupple is immutable and list is not.\n",
        "#tuples are hashable if all their elements are hashable, allowing them to be used as dictionary keys while lists are not hashable."
      ],
      "metadata": {
        "id": "puoMAdvwX2so"
      },
      "execution_count": null,
      "outputs": []
    },
    {
      "cell_type": "code",
      "source": [
        "#Question5-describe the key features of sets and provide examples of their use.\n",
        "#answer-Sets are another data structure of python which can be used to store different kind of date types and sets are mutable. one of the main feature of set is that elements in set cannot be repeated.\n",
        "#sets are unorderd collecection which means while iterating throuth sets you might not find the elements in same order as you added.\n",
        "#sets are mutable that means you can add or remove any element for set.  functions to add or remove elements for a set are a.add() and a.remove().\n",
        "set1= {2,3,4,5,\"mango\",\"apple\"}\n",
        "set1.add(8)  # function to add any element to a set\n",
        "print(set1)\n",
        "set1.remove(\"mango\")  # function to remove any element for set\n",
        "print(set1)\n",
        "# #sets do not support slicing or indexing as they are unordered\n",
        "cars={\"harrier\",\"fortuner\",\"safari\"} #this is membership testing to test if any element is in set\n",
        "print(\"verna\" in cars)\n",
        "print(\"harrier\" in cars)\n",
        "#operations of set\n",
        "set_a = {1, 2, 3, 4}\n",
        "set_b = {3, 4, 5, 6}\n",
        "print(set_a | set_b) # to check the union of two sets\n",
        "print(set_a & set_b) # to check intersection of two elements\n",
        "print(set_a - set_b)  # to check if that are in a but not in b\n",
        "print(set_a ^ set_b) # to check if that are in a or b but not in both\n",
        "\n"
      ],
      "metadata": {
        "id": "jMq8Oq0hjPpF",
        "colab": {
          "base_uri": "https://localhost:8080/"
        },
        "outputId": "61f424f4-81bb-4cf0-9e0e-2f2e1107b88d"
      },
      "execution_count": 10,
      "outputs": [
        {
          "output_type": "stream",
          "name": "stdout",
          "text": [
            "{'apple', 2, 3, 4, 5, 8, 'mango'}\n",
            "{'apple', 2, 3, 4, 5, 8}\n",
            "False\n",
            "True\n",
            "{1, 2, 3, 4, 5, 6}\n",
            "{3, 4}\n",
            "{1, 2}\n",
            "{1, 2, 5, 6}\n"
          ]
        }
      ]
    },
    {
      "cell_type": "code",
      "source": [
        "#Question6- Discuss the use cases of tuples and sets in python programming.\n",
        "#Answer- Tuples and sets serve different purpose in python programming and are used in different scenerios depending upon the requirements and conditions of the program.\n",
        "#A tuple is an ordered collection of elements that is immutable, meaning once a tuple is created, its contents cannot be changed. Tuples are useful when you want to group related data and ensure it remains constant.\n",
        "#when you want to store a group of related items that shouldn't change, tuples are preferred.\n",
        "#Coordinates of a point in 2D or 3D space\n",
        "# point = (3, 4)\n",
        "# point_3d = (3, 4, 5)\n",
        "#Because tuples are immutable, they can be used as keys in dictionaries, which require immutable data types\n",
        "#example-location_map = {(\"New York\", \"NY\"): 100, (\"Los Angeles\", \"CA\"): 200}\n",
        "#Tuples can hold a collection of different data types. They are often used when elements are related but are of different types.\n",
        "#example-person = (\"Bob\", 30, True)\n",
        "#Tuples are more memory-efficient than lists, making them suitable for storing large amounts of immutable data\n",
        "#example-a large collection of records that wont change.\n",
        "# #records = (\n",
        "#     (1, \"Alice\", \"Engineering\"),\n",
        "#     (2, \"Bob\", \"HR\"),\n",
        "#     (3, \"Charlie\", \"Finance\")\n",
        "# )\n",
        "#sets- A set is an unordered collection of unique elements. Sets are particularly useful when you need to store a collection of items but want to ensure there are no duplicates.\n",
        "#When you have a list or other iterable with duplicates, and you want to remove them, sets are the ideal data structure\n",
        "#example-\n",
        "#items = [1, 2, 2, 3, 4, 4, 5]\n",
        "# unique_items = set(items)  # {1, 2, 3, 4, 5}\n",
        "#Sets are useful for aggregating unique items from multiple sources.\n",
        "# #tags1 = {\"python\", \"coding\", \"tutorial\"}\n",
        "# tags2 = {\"tutorial\", \"development\", \"python\"}\n",
        "\n",
        "# all_tags = tags1 | tags2  # {'python', 'coding', 'tutorial', 'development'}\n",
        "#Sets allow you to easily remove elements that appear in multiple collections\n",
        "# #words = {\"apple\", \"banana\", \"cherry\", \"date\"}\n",
        "# banned_words = {\"banana\", \"date\"}\n",
        "\n",
        "# clean_words = words - banned_words  # {'apple', 'cherry'}\n",
        "\n",
        "\n",
        "\n"
      ],
      "metadata": {
        "id": "NELZ6Ev4jPUv"
      },
      "execution_count": 1,
      "outputs": []
    },
    {
      "cell_type": "code",
      "source": [
        "#Question7-Describe how to add,modify and delete items in a dictionary with example?\n",
        "#Answer-\n",
        "data={\"name\":\"aman\",\"age\":23,\"city\":\"delhi\"}\n",
        "data[\"phone_no\"] =989620  #this is how you can add a value to dictionary by accessing the dictionary\n",
        "print(data)\n",
        "data[\"name\"]=\"rohit\"\n",
        "print(data)               #this is how we can modify a value in dictionary\n",
        "del data[\"city\"]\n",
        "print(data)                # this is how we can delete a key value from dictionary\n",
        "age=data.pop(\"age\")\n",
        "print(data)               # this function also deletes value for dictionary\n",
        "a=data.popitem()\n",
        "print(data)               #this removes and returns the last inserted key-value pair as a tuple.\n",
        "b=data.clear()\n",
        "print(data)              # thsi function is used to clear all the contents of a dictionary\n",
        "\n",
        "# these are all funtions you can use to add modify or delete any item from a dictionary using key value pairs.\n",
        "\n"
      ],
      "metadata": {
        "colab": {
          "base_uri": "https://localhost:8080/"
        },
        "id": "PddZRgbhmEkF",
        "outputId": "817104fa-f636-402e-9d13-fbef96879a4c"
      },
      "execution_count": 15,
      "outputs": [
        {
          "output_type": "stream",
          "name": "stdout",
          "text": [
            "{'name': 'aman', 'age': 23, 'city': 'delhi', 'phone_no': 989620}\n",
            "{'name': 'rohit', 'age': 23, 'city': 'delhi', 'phone_no': 989620}\n",
            "{'name': 'rohit', 'age': 23, 'phone_no': 989620}\n",
            "{'name': 'rohit', 'phone_no': 989620}\n",
            "{'name': 'rohit'}\n",
            "{}\n"
          ]
        }
      ]
    },
    {
      "cell_type": "markdown",
      "source": [],
      "metadata": {
        "id": "2iLJw0PrrWrM"
      }
    },
    {
      "cell_type": "code",
      "source": [
        "#Question8-Discuss the importance of dictionary keys being immutable and provide example.\n",
        "#Answer-dictionary keys must be immutable, meaning they can't be changed after being created. This is important because dictionaries use these keys to store and quickly find data. If the key could change, the dictionary wouldn't know where to find the data, leading to errors and slow performance.\n",
        "#immutable keys are important because\n",
        "#Once a key is set, it stays the same. This ensures that you can always find your data using that key.\n",
        "#Python uses a process called hashing to quickly find data. Immutable keys keep the hash value stable, making lookups fast\n",
        "#If keys could change, the dictionary might lose track of the data, causing errors or unexpected behavior\n",
        "#immutable key\n",
        "my_dict = {'name': 'Alice', 42: 'Answer'}\n",
        "print(my_dict['name'])\n",
        "#immutable key\n",
        "# Example: Attempting to use a mutable type as a dictionary key\n",
        "my_dict = {}\n",
        "\n",
        "# Using a list as a key (this will raise a TypeError)\n",
        "key = [1, 2, 3]\n",
        "\n",
        "try:\n",
        "    my_dict[key] = 'This will not work'\n",
        "except TypeError as e:\n",
        "    print(\"Error:\", e)\n"
      ],
      "metadata": {
        "colab": {
          "base_uri": "https://localhost:8080/"
        },
        "collapsed": true,
        "id": "qt1EvMdZqnDd",
        "outputId": "5c1d88c6-abe5-43a8-ff68-a2188e283008"
      },
      "execution_count": 6,
      "outputs": [
        {
          "output_type": "stream",
          "name": "stdout",
          "text": [
            "Alice\n",
            "Error: unhashable type: 'list'\n"
          ]
        }
      ]
    }
  ]
}